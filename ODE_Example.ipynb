{
 "cells": [
  {
   "cell_type": "markdown",
   "metadata": {},
   "source": [
    "# First Order ODEs"
   ]
  },
  {
   "cell_type": "markdown",
   "metadata": {},
   "source": [
    "Let's start with a first order ODE from your tasks. The ODE given in 6) b)  was \n",
    "\n",
    "$$\n",
    "\\begin{aligned}\n",
    " \\frac{\\text{d}y}{\\text{d}x} + y = y^2 (\\cos(x)-\\sin(x))\n",
    "\\end{aligned}\n",
    "$$\n",
    "\n",
    "and you showed that the solution is \n",
    "\n",
    "$$\n",
    "\\begin{aligned}\n",
    "y = \\frac{1}{-\\sin(x)+c*\\exp{x}}\n",
    "\\end{aligned}\n",
    "$$ \n",
    "\n",
    "with a constant $c$.\n",
    "\n",
    "\n",
    "Let's try to solve this numerically using Python. (You don't need to understand the code, but changing the input of the calculation is quite easy). \n",
    "\n",
    "To do this, we first need to rewrite it in a form where only the derivative is on the LHS of the equation \n",
    "\n",
    "$$\n",
    "\\begin{aligned}\n",
    "\\frac{\\text{d}y}{\\text{d}x} = y^2 (\\cos(x)-\\sin(x)) - y \n",
    "\\end{aligned}\n",
    "$$ \n",
    "\n",
    "This will give us a general solution. To get a particular solution which we can plot, we must specify initial conditions. You can choose arbitrarily and set for example\n",
    "\n",
    "$$ \n",
    "\\begin{aligned}\n",
    "y(0) = 1.\n",
    "\\end{aligned}\n",
    "$$ \n",
    "\n",
    "We are now ready to solve it numerically. "
   ]
  },
  {
   "cell_type": "code",
   "execution_count": 19,
   "metadata": {},
   "outputs": [
    {
     "data": {
      "application/vnd.jupyter.widget-view+json": {
       "model_id": "85ac8b58fc0f4e9f8f086194687ed9a6",
       "version_major": 2,
       "version_minor": 0
      },
      "text/plain": [
       "interactive(children=(IntSlider(value=-9, description='y_0', max=3, min=-20), IntSlider(value=0, description='…"
      ]
     },
     "metadata": {},
     "output_type": "display_data"
    }
   ],
   "source": [
    "# Import relevant librarys \n",
    "import numpy as np\n",
    "from scipy.integrate import solve_ivp\n",
    "import matplotlib.pyplot as plt\n",
    "from ipywidgets import interact, interactive, fixed\n",
    "\n",
    "# Define the ODE \n",
    "def dy_dx(x,y):\n",
    "    return y**2*(np.cos(x)-np.sin(x))-y\n",
    "\n",
    "# Define your analytical solution\n",
    "def analytical_sol(x,y_0): \n",
    "    c = 1 / y_0 \n",
    "    y = 1/(-np.sin(x)+c*np.exp(x))\n",
    "    return y\n",
    "\n",
    "\n",
    "\n",
    "def fun_plot(y_0,x_start,x_stop):\n",
    "    \n",
    "    #define the x-axis (start,stop) of the solution \n",
    "    xs = [x_start,x_stop] \n",
    "    \n",
    "    # call the solver (ODE, x-vector, initial condition) and assign solution\n",
    "    y0 = [y_0]\n",
    "    # call the inbuilt solver \n",
    "    sol = solve_ivp(dy_dx,xs,y0,dense_output=True)\n",
    "    # calculate 'dense' solution with many points \n",
    "    t = np.linspace(x_start, x_stop, 1000)\n",
    "    z = sol.sol(t)\n",
    "    \n",
    "    #calculate analytic solution\n",
    "    y_a = analytical_sol(t,y_0)\n",
    "    \n",
    "    #plot \n",
    "    plt.plot(t, z.T,label='numerical solution', linewidth=5)\n",
    "    plt.xlabel('$x$')\n",
    "    plt.ylabel('$y$')\n",
    "    plt.plot(t,y_a,':',label='analytical solution',linewidth=4)\n",
    "    plt.legend(loc='lower right')\n",
    "    \n",
    "# call interactive widget    \n",
    "interactive_plot = interactive(fun_plot,y_0=(-20,3),x_start=(0,0),x_stop=(0,10))\n",
    "interactive_plot"
   ]
  },
  {
   "cell_type": "markdown",
   "metadata": {},
   "source": [
    "# Higher Order ODEs"
   ]
  },
  {
   "cell_type": "markdown",
   "metadata": {},
   "source": [
    "Let's modify it for higher order ODEs. We can translate them into a set of 1st order ODEs. Take for example 9)a) \n",
    "\n",
    "\n",
    "$$\n",
    "\\begin{aligned}\n",
    " \\frac{\\text{d}^2 y}{\\text{d}x^2} - 5 \\frac{\\text{d} y}{\\text{d}x} +6 y = 0 \n",
    "\\end{aligned}\n",
    "$$ \n",
    "\n",
    "subject to initial conditions $y(0)=0, y'(0)=1$. \n",
    "Your solution was \n",
    "\n",
    "$$\n",
    "\\begin{aligned}\n",
    " y = A \\exp(2x) + B \\exp(3x).\n",
    "\\end{aligned}\n",
    "$$\n",
    "\n",
    "As a set of 1st order equations, this can be rewritten as\n",
    "$$\n",
    "\\begin{aligned}\n",
    " & y_1 = \\frac{\\text{d} y}{\\text{d}x} \\\\\n",
    " & y_2 = \\frac{\\text{d}^2 y}{\\text{d}^2x} = 5 y_1 -6 y\n",
    "\\end{aligned}\n",
    "$$ \n",
    "Let's solve this equation numerically again. "
   ]
  },
  {
   "cell_type": "code",
   "execution_count": 21,
   "metadata": {},
   "outputs": [
    {
     "data": {
      "application/vnd.jupyter.widget-view+json": {
       "model_id": "f8cbc97b77854f8d84f003c58c24f3df",
       "version_major": 2,
       "version_minor": 0
      },
      "text/plain": [
       "interactive(children=(IntSlider(value=2, description='y_0', max=10, min=-5), IntSlider(value=2, description='y…"
      ]
     },
     "metadata": {},
     "output_type": "display_data"
    }
   ],
   "source": [
    "# Import relevant librarys \n",
    "import numpy as np\n",
    "from scipy.integrate import solve_ivp\n",
    "import matplotlib.pyplot as plt\n",
    "from ipywidgets import interact, interactive, fixed\n",
    "\n",
    "# Define the ODE \n",
    "def dy_dx2(x,y):\n",
    "     \n",
    "    return [y[1],5*y[1]-6*y[0]]\n",
    "\n",
    "# Define your analytical solution\n",
    "def analytical_sol2(x,y0): \n",
    "    A = -y0[0]-y0[1]\n",
    "    B = y0[1]-2*y0[0]\n",
    "    y1 = A*np.exp(2*x)+B*np.exp(3*x)\n",
    "    y2 = 2*A*np.exp(2*x)+3*B*np.exp(3*x)\n",
    "    return [y1,y2]\n",
    "\n",
    "\n",
    "\n",
    "def fun_plot2(y_0,y__0,x_start,x_stop):\n",
    "    #define the x-axis (start,stop) of the solution \n",
    "    xs = [x_start,x_stop]\n",
    "    \n",
    "    # the initial conditions (y(0),y'(0))\n",
    "    y0 = [y_0,y__0]  \n",
    "    # call the solver (ODE, x-vector, initial condition) and assign solution\n",
    "    sol = solve_ivp(dy_dx2,xs,y0,dense_output=True)\n",
    "    # calculate dense output \n",
    "    t = np.linspace(x_start, x_stop, 1000)\n",
    "    z = sol.sol(t)\n",
    "    \n",
    "    # calculate your analytical solution\n",
    "    y_a = analytical_sol2(t,y0)\n",
    "    \n",
    "    # plot\n",
    "    plt.plot(t, z.T[:,0],label='numerical solution y1', linewidth=5)\n",
    "    plt.plot(t, z.T[:,1],label='numerical solution y2', linewidth=5)\n",
    "    plt.xlabel('$x$')\n",
    "    plt.ylabel('$y$')\n",
    "    plt.plot(t,y_a[0],':',label='analytical solution y1',linewidth=4)\n",
    "    plt.plot(t,y_a[1],':',label='analytical solution y2',linewidth=4)\n",
    "    plt.legend(loc='lower left')\n",
    "    \n",
    "# call interactive widget\n",
    "interactive_plot = interactive(fun_plot2,y_0=(-5,10),y__0=(-5,10),x_start=(0,0),x_stop=(0,10))\n",
    "interactive_plot"
   ]
  },
  {
   "cell_type": "markdown",
   "metadata": {},
   "source": [
    "Feel free to edit this script and adapt it for your purposes! "
   ]
  }
 ],
 "metadata": {
  "kernelspec": {
   "display_name": "Python 3",
   "language": "python",
   "name": "python3"
  },
  "language_info": {
   "codemirror_mode": {
    "name": "ipython",
    "version": 3
   },
   "file_extension": ".py",
   "mimetype": "text/x-python",
   "name": "python",
   "nbconvert_exporter": "python",
   "pygments_lexer": "ipython3",
   "version": "3.8.5"
  }
 },
 "nbformat": 4,
 "nbformat_minor": 4
}
